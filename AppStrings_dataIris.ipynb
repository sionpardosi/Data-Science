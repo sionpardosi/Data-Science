{
 "cells": [
  {
   "cell_type": "code",
   "execution_count": 1,
   "metadata": {},
   "outputs": [
    {
     "name": "stdout",
     "output_type": "stream",
     "text": [
      "DataFrame Iris Dataset:\n",
      "   sepal_length  sepal_width  petal_length  petal_width species\n",
      "0           5.1          3.5           1.4          0.2  setosa\n",
      "1           4.9          3.0           1.4          0.2  setosa\n",
      "2           4.7          3.2           1.3          0.2  setosa\n",
      "3           4.6          3.1           1.5          0.2  setosa\n",
      "4           5.0          3.6           1.4          0.2  setosa\n",
      "\n",
      "Hasil manipulasi kolom 'species':\n",
      "  species species_upper species_label species_short  posisi_set\n",
      "0  setosa        SETOSA   Iris setosa           set           0\n",
      "1  setosa        SETOSA   Iris setosa           set           0\n",
      "2  setosa        SETOSA   Iris setosa           set           0\n",
      "3  setosa        SETOSA   Iris setosa           set           0\n",
      "4  setosa        SETOSA   Iris setosa           set           0\n"
     ]
    }
   ],
   "source": [
    "import pandas as pd\n",
    "\n",
    "# Membaca dataset IrisDataset.csv dengan pemisah titik koma\n",
    "iris_df = pd.read_csv('IrisDataset.csv', sep=';', engine='python')\n",
    "\n",
    "# Jika dataset terbaca sebagai satu kolom, pisahkan berdasarkan tanda ';'\n",
    "if iris_df.shape[1] == 1:\n",
    "    iris_df = iris_df[iris_df.columns[0]].str.split(\";\", expand=True)\n",
    "    # Asumsikan baris pertama adalah header\n",
    "    iris_df.columns = iris_df.iloc[0]\n",
    "    iris_df = iris_df[1:]\n",
    "\n",
    "# Bersihkan nama kolom dari spasi ekstra dan ubah ke huruf kecil untuk konsistensi\n",
    "iris_df.columns = iris_df.columns.str.strip().str.lower()\n",
    "\n",
    "# Lihat beberapa baris pertama untuk verifikasi\n",
    "print(\"DataFrame Iris Dataset:\")\n",
    "print(iris_df.head())\n",
    "\n",
    "# Misalkan kita akan melakukan manipulasi string pada kolom 'species'\n",
    "# Contoh 1: Mengubah seluruh teks pada kolom 'species' menjadi huruf kapital\n",
    "iris_df['species_upper'] = iris_df['species'].str.upper()\n",
    "\n",
    "# Contoh 2: Menggabungkan string untuk menambahkan label \"Iris\" di depan nama spesies\n",
    "iris_df['species_label'] = \"Iris \" + iris_df['species']\n",
    "\n",
    "# Contoh 3: Mengambil 3 karakter pertama dari nama spesies sebagai fitur ringkasan\n",
    "iris_df['species_short'] = iris_df['species'].str[:3]\n",
    "\n",
    "# Contoh 4: Mencari posisi substring \"set\" pada kolom 'species' (contoh: untuk 'setosa')\n",
    "iris_df['posisi_set'] = iris_df['species'].str.find(\"set\")\n",
    "\n",
    "# Menampilkan 5 baris pertama dari kolom hasil manipulasi\n",
    "print(\"\\nHasil manipulasi kolom 'species':\")\n",
    "print(iris_df[['species', 'species_upper', 'species_label', 'species_short', 'posisi_set']].head())\n"
   ]
  }
 ],
 "metadata": {
  "kernelspec": {
   "display_name": "Python 3",
   "language": "python",
   "name": "python3"
  },
  "language_info": {
   "codemirror_mode": {
    "name": "ipython",
    "version": 3
   },
   "file_extension": ".py",
   "mimetype": "text/x-python",
   "name": "python",
   "nbconvert_exporter": "python",
   "pygments_lexer": "ipython3",
   "version": "3.12.4"
  }
 },
 "nbformat": 4,
 "nbformat_minor": 2
}

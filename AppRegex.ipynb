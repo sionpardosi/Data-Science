{
 "cells": [
  {
   "cell_type": "code",
   "execution_count": 1,
   "metadata": {},
   "outputs": [
    {
     "name": "stdout",
     "output_type": "stream",
     "text": [
      "Contoh validasi email:\n",
      "  Email Address  Email_Valid\n",
      "0           NaN        False\n",
      "1           NaN        False\n",
      "2           NaN        False\n",
      "3           NaN        False\n",
      "4           NaN        False\n",
      "\n",
      "Contoh ekstraksi angka dari kolom penggunaan laptop:\n",
      "  Berapa lama waktu yang Anda habiskan menggunakan laptop setiap hari?  \\\n",
      "0                                                NaN                     \n",
      "1                                         9 - 11 jam                     \n",
      "2                                          6 - 8 jam                     \n",
      "3                                          6 - 8 jam                     \n",
      "4                                          3 - 5 jam                     \n",
      "\n",
      "  Waktu_Laptop_Angka  \n",
      "0                 []  \n",
      "1            [9, 11]  \n",
      "2             [6, 8]  \n",
      "3             [6, 8]  \n",
      "4             [3, 5]  \n"
     ]
    }
   ],
   "source": [
    "import pandas as pd\n",
    "import re\n",
    "\n",
    "# Membaca dataset Data_Mahasiswa.csv dengan pemisah titik koma\n",
    "data = pd.read_csv('Data_Mahasiswa.csv', sep=';')\n",
    "# Membersihkan nama kolom dari spasi ekstra\n",
    "data.columns = data.columns.str.strip()\n",
    "\n",
    "# Contoh 1: Validasi format email menggunakan regex\n",
    "def validasi_email(email):\n",
    "    \"\"\"\n",
    "    Fungsi untuk memvalidasi format alamat email.\n",
    "    \n",
    "    Parameter:\n",
    "        email (str): Alamat email yang akan divalidasi.\n",
    "    Mengembalikan:\n",
    "        bool: True jika email valid, False jika tidak.\n",
    "    \"\"\"\n",
    "    pola_email = r'^[a-zA-Z0-9._%-]+@[a-zA-Z0-9.-]+\\.[a-zA-Z]{2,4}$'\n",
    "    if re.match(pola_email, email):\n",
    "        return True\n",
    "    else:\n",
    "        return False\n",
    "\n",
    "# Menambahkan kolom 'Email_Valid' ke dalam dataset untuk menandai email yang valid\n",
    "data['Email_Valid'] = data['Email Address'].apply(lambda x: validasi_email(x) if isinstance(x, str) else False)\n",
    "\n",
    "# Menampilkan beberapa baris untuk verifikasi\n",
    "print(\"Contoh validasi email:\")\n",
    "print(data[['Email Address', 'Email_Valid']].head())\n",
    "\n",
    "# Contoh 2: Ekstraksi angka dari kolom tertentu menggunakan regex\n",
    "# Misalnya, kolom \"Berapa lama waktu yang Anda habiskan menggunakan laptop setiap hari?\"\n",
    "# Di dalamnya terdapat rentang waktu seperti \"9 - 11 jam\", kita ingin mengekstrak angka-angkanya.\n",
    "def ekstrak_angka(teks):\n",
    "    \"\"\"\n",
    "    Fungsi untuk mengekstrak semua angka dari sebuah string.\n",
    "    \n",
    "    Parameter:\n",
    "        teks (str): String yang mengandung angka.\n",
    "    Mengembalikan:\n",
    "        list: List dari angka-angka yang ditemukan (dalam bentuk string).\n",
    "    \"\"\"\n",
    "    # Pola untuk mencari angka yang mungkin mengandung titik desimal\n",
    "    pola = r'\\d+(?:\\.\\d+)?'\n",
    "    angka = re.findall(pola, teks)\n",
    "    return angka\n",
    "\n",
    "# Terapkan fungsi ekstrak_angka pada kolom yang relevan (jika nilai bukan NaN)\n",
    "data['Waktu_Laptop_Angka'] = data['Berapa lama waktu yang Anda habiskan menggunakan laptop setiap hari?'].apply(lambda x: ekstrak_angka(x) if isinstance(x, str) else [])\n",
    "\n",
    "# Menampilkan contoh ekstraksi angka dari kolom tersebut\n",
    "print(\"\\nContoh ekstraksi angka dari kolom penggunaan laptop:\")\n",
    "print(data[['Berapa lama waktu yang Anda habiskan menggunakan laptop setiap hari?', 'Waktu_Laptop_Angka']].head())\n"
   ]
  }
 ],
 "metadata": {
  "kernelspec": {
   "display_name": "Python 3",
   "language": "python",
   "name": "python3"
  },
  "language_info": {
   "codemirror_mode": {
    "name": "ipython",
    "version": 3
   },
   "file_extension": ".py",
   "mimetype": "text/x-python",
   "name": "python",
   "nbconvert_exporter": "python",
   "pygments_lexer": "ipython3",
   "version": "3.12.4"
  }
 },
 "nbformat": 4,
 "nbformat_minor": 2
}

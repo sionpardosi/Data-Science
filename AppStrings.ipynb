{
 "cells": [
  {
   "cell_type": "code",
   "execution_count": 2,
   "metadata": {},
   "outputs": [],
   "source": [
    "s1 = \"Data\"\n",
    "s2 = \"Science\"\n",
    "hasil = s1 + \" \" + s2  # Output: \"Data Science\"\n"
   ]
  },
  {
   "cell_type": "code",
   "execution_count": 3,
   "metadata": {},
   "outputs": [],
   "source": [
    "s = \"Python\"\n",
    "hasil = s * 3  # Output: \"PythonPythonPython\"\n"
   ]
  },
  {
   "cell_type": "code",
   "execution_count": 4,
   "metadata": {},
   "outputs": [],
   "source": [
    "s = \"Mahasiswa\"\n",
    "potongan = s[0:4]  # Output: \"Maha\"\n"
   ]
  },
  {
   "cell_type": "code",
   "execution_count": 5,
   "metadata": {},
   "outputs": [
    {
     "name": "stdout",
     "output_type": "stream",
     "text": [
      "Hasil manipulasi kolom 'Nama Lengkap Mahasiswa':\n",
      "          Nama Lengkap Mahasiswa                   Nama_Kapital  \\\n",
      "0                            NaN                            NaN   \n",
      "1  Samuel Saut Royzeki Aritonang  SAMUEL SAUT ROYZEKI ARITONANG   \n",
      "2            Calvin Josep Silaen            CALVIN JOSEP SILAEN   \n",
      "3                Indah Silitonga                INDAH SILITONGA   \n",
      "4             Asri Yohana Sirait             ASRI YOHANA SIRAIT   \n",
      "\n",
      "                            Nama_dan_Gelar Nama_5karakter  Posisi_Saut  \n",
      "0                                      NaN            NaN          NaN  \n",
      "1  Mahasiswa Samuel Saut Royzeki Aritonang          Samue          7.0  \n",
      "2            Mahasiswa Calvin Josep Silaen          Calvi         -1.0  \n",
      "3                Mahasiswa Indah Silitonga          Indah         -1.0  \n",
      "4             Mahasiswa Asri Yohana Sirait          Asri          -1.0  \n"
     ]
    }
   ],
   "source": [
    "import pandas as pd\n",
    "\n",
    "# Membaca dataset Data_Mahasiswa.csv dengan pemisah titik koma\n",
    "data = pd.read_csv('Data_Mahasiswa.csv', sep=';')\n",
    "\n",
    "# Menghapus spasi ekstra dari nama kolom untuk konsistensi\n",
    "data.columns = data.columns.str.strip()\n",
    "\n",
    "# Contoh 1: Mengubah seluruh nama mahasiswa menjadi huruf kapital\n",
    "data['Nama_Kapital'] = data['Nama Lengkap Mahasiswa'].str.upper()\n",
    "\n",
    "# Contoh 2: Menggabungkan string untuk menambahkan gelar \"Mahasiswa\" di depan nama\n",
    "data['Nama_dan_Gelar'] = \"Mahasiswa \" + data['Nama Lengkap Mahasiswa']\n",
    "\n",
    "# Contoh 3: Mengambil 5 karakter pertama dari nama mahasiswa sebagai fitur ringkasan\n",
    "data['Nama_5karakter'] = data['Nama Lengkap Mahasiswa'].str[:5]\n",
    "\n",
    "# Contoh 4: Mencari posisi substring \"Saut\" pada kolom nama (jika ada)\n",
    "data['Posisi_Saut'] = data['Nama Lengkap Mahasiswa'].str.find(\"Saut\")\n",
    "\n",
    "# Menampilkan 5 baris pertama dari kolom hasil manipulasi\n",
    "print(\"Hasil manipulasi kolom 'Nama Lengkap Mahasiswa':\")\n",
    "print(data[['Nama Lengkap Mahasiswa', 'Nama_Kapital', 'Nama_dan_Gelar', 'Nama_5karakter', 'Posisi_Saut']].head())\n"
   ]
  }
 ],
 "metadata": {
  "kernelspec": {
   "display_name": "Python 3",
   "language": "python",
   "name": "python3"
  },
  "language_info": {
   "codemirror_mode": {
    "name": "ipython",
    "version": 3
   },
   "file_extension": ".py",
   "mimetype": "text/x-python",
   "name": "python",
   "nbconvert_exporter": "python",
   "pygments_lexer": "ipython3",
   "version": "3.12.4"
  }
 },
 "nbformat": 4,
 "nbformat_minor": 2
}

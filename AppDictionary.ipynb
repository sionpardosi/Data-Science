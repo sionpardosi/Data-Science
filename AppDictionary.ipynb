{
 "cells": [
  {
   "cell_type": "code",
   "execution_count": null,
   "metadata": {},
   "outputs": [],
   "source": [
    "nama_dictionary = { key1: value1, key2: value2, ... }"
   ]
  },
  {
   "cell_type": "code",
   "execution_count": null,
   "metadata": {},
   "outputs": [],
   "source": [
    "mahasiswa = {\"nama\": \"Sion Pardosi\", \"nim\": \"11422012\", \"prodi\": \"Sastra Informatika\"}"
   ]
  },
  {
   "cell_type": "code",
   "execution_count": null,
   "metadata": {},
   "outputs": [],
   "source": [
    "print(mahasiswa[\"nama\"])  # Output: Andi Prasetyo"
   ]
  },
  {
   "cell_type": "code",
   "execution_count": null,
   "metadata": {},
   "outputs": [],
   "source": [
    "mahasiswa[\"angkatan\"] = 2021"
   ]
  },
  {
   "cell_type": "code",
   "execution_count": 1,
   "metadata": {},
   "outputs": [
    {
     "name": "stdout",
     "output_type": "stream",
     "text": [
      "Contoh pengelompokan data mahasiswa menggunakan dictionary:\n",
      "Key (NIM, Nama): (11422026.0, 'Samuel Saut Royzeki Aritonang') => Info: {'Program Studi': 'Sarjana Terapan Teknologi Rekayasa Perangkat Lunak', 'Angkatan': '2022'}\n",
      "Key (NIM, Nama): (11422038.0, 'Calvin Josep Silaen') => Info: {'Program Studi': 'Sarjana Terapan Teknologi Rekayasa Perangkat Lunak', 'Angkatan': '2022'}\n",
      "Key (NIM, Nama): (11422060.0, 'Indah Silitonga') => Info: {'Program Studi': 'Sarjana Terapan Teknologi Rekayasa Perangkat Lunak', 'Angkatan': '2022'}\n",
      "Key (NIM, Nama): (11422029.0, 'Asri Yohana Sirait') => Info: {'Program Studi': 'Sarjana Terapan Teknologi Rekayasa Perangkat Lunak', 'Angkatan': '2022'}\n",
      "Key (NIM, Nama): (11423008.0, 'Ferdianty Mariany Panjaitan ') => Info: {'Program Studi': 'Sarjana Terapan Teknologi Rekayasa Perangkat Lunak', 'Angkatan': '2023'}\n"
     ]
    }
   ],
   "source": [
    "import pandas as pd\n",
    "\n",
    "# Membaca dataset Data_Mahasiswa.csv dengan pemisah titik koma\n",
    "data = pd.read_csv('Data_Mahasiswa.csv', sep=';')\n",
    "\n",
    "# Menghapus spasi ekstra pada nama kolom untuk konsistensi\n",
    "data.columns = data.columns.str.strip()\n",
    "\n",
    "# Pastikan kolom 'NIM' dikonversi ke tipe numerik agar valid untuk perbandingan\n",
    "data['NIM'] = pd.to_numeric(data['NIM'], errors='coerce')\n",
    "\n",
    "# Membuat dictionary untuk mengelompokkan data mahasiswa\n",
    "# Gunakan tuple (NIM, Nama Lengkap Mahasiswa) sebagai key, dan simpan informasi tambahan sebagai value\n",
    "data_mahasiswa = {}\n",
    "\n",
    "for index, row in data.iterrows():\n",
    "    # Pastikan bahwa nilai NIM dan Nama valid\n",
    "    if pd.notnull(row['NIM']) and isinstance(row['Nama Lengkap Mahasiswa'], str):\n",
    "        # Membuat key dengan tuple yang unik\n",
    "        key = (row['NIM'], row['Nama Lengkap Mahasiswa'])\n",
    "        # Simpan informasi tambahan: misalnya, Program Studi dan Angkatan Mahasiswa\n",
    "        info = {\n",
    "            \"Program Studi\": row.get(\"Program Studi Mahasiswa\", None),\n",
    "            \"Angkatan\": row.get(\"Angkatan Mahasiswa\", None)\n",
    "        }\n",
    "        data_mahasiswa[key] = info\n",
    "\n",
    "# Menampilkan contoh 5 entri dari dictionary untuk verifikasi\n",
    "print(\"Contoh pengelompokan data mahasiswa menggunakan dictionary:\")\n",
    "for i, (k, v) in enumerate(data_mahasiswa.items()):\n",
    "    if i == 5:\n",
    "        break\n",
    "    print(f\"Key (NIM, Nama): {k} => Info: {v}\")\n"
   ]
  }
 ],
 "metadata": {
  "kernelspec": {
   "display_name": "Python 3",
   "language": "python",
   "name": "python3"
  },
  "language_info": {
   "codemirror_mode": {
    "name": "ipython",
    "version": 3
   },
   "file_extension": ".py",
   "mimetype": "text/x-python",
   "name": "python",
   "nbconvert_exporter": "python",
   "pygments_lexer": "ipython3",
   "version": "3.12.4"
  }
 },
 "nbformat": 4,
 "nbformat_minor": 2
}

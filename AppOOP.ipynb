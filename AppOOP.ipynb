{
 "cells": [
  {
   "cell_type": "code",
   "execution_count": 1,
   "metadata": {},
   "outputs": [
    {
     "name": "stdout",
     "output_type": "stream",
     "text": [
      "Informasi 5 Mahasiswa Pertama:\n",
      "Samuel Saut Royzeki Aritonang (11422026.0) - Sarjana Terapan Teknologi Rekayasa Perangkat Lunak, Angkatan: 2022.0\n",
      "Calvin Josep Silaen (11422038.0) - Sarjana Terapan Teknologi Rekayasa Perangkat Lunak, Angkatan: 2022.0\n",
      "Indah Silitonga (11422060.0) - Sarjana Terapan Teknologi Rekayasa Perangkat Lunak, Angkatan: 2022.0\n",
      "Asri Yohana Sirait (11422029.0) - Sarjana Terapan Teknologi Rekayasa Perangkat Lunak, Angkatan: 2022.0\n",
      "Ferdianty Mariany Panjaitan  (11423008.0) - Sarjana Terapan Teknologi Rekayasa Perangkat Lunak, Angkatan: 2023.0\n"
     ]
    }
   ],
   "source": [
    "import pandas as pd\n",
    "\n",
    "# Kelas dasar untuk merepresentasikan data mahasiswa\n",
    "class Mahasiswa:\n",
    "    def __init__(self, nama, npm, prodi, angkatan):\n",
    "        \"\"\"\n",
    "        Konstruktor untuk kelas Mahasiswa.\n",
    "        Parameter:\n",
    "            nama (str): Nama lengkap mahasiswa.\n",
    "            npm (int): Nomor Induk Mahasiswa.\n",
    "            prodi (str): Program Studi mahasiswa.\n",
    "            angkatan (int): Tahun angkatan.\n",
    "        \"\"\"\n",
    "        self.nama = nama\n",
    "        self.npm = npm\n",
    "        self.prodi = prodi\n",
    "        self.angkatan = angkatan\n",
    "\n",
    "    def info(self):\n",
    "        \"\"\"\n",
    "        Mengembalikan informasi lengkap mahasiswa dalam format string.\n",
    "        \"\"\"\n",
    "        return f\"{self.nama} ({self.npm}) - {self.prodi}, Angkatan: {self.angkatan}\"\n",
    "\n",
    "# Kelas turunan untuk mahasiswa program magister yang memiliki atribut tambahan: judul tesis\n",
    "class MahasiswaMagister(Mahasiswa):\n",
    "    def __init__(self, nama, npm, prodi, angkatan, judul_tesis):\n",
    "        \"\"\"\n",
    "        Konstruktor untuk kelas MahasiswaMagister.\n",
    "        Parameter:\n",
    "            judul_tesis (str): Judul tesis mahasiswa magister.\n",
    "            (Parameter lain diwariskan dari kelas Mahasiswa)\n",
    "        \"\"\"\n",
    "        super().__init__(nama, npm, prodi, angkatan)\n",
    "        self.judul_tesis = judul_tesis\n",
    "\n",
    "    def info(self):\n",
    "        \"\"\"\n",
    "        Mengembalikan informasi lengkap mahasiswa magister, termasuk judul tesis.\n",
    "        \"\"\"\n",
    "        info_awal = super().info()\n",
    "        return f\"{info_awal} | Judul Tesis: {self.judul_tesis}\"\n",
    "\n",
    "# Penerapan dalam konteks dataset Data_Mahasiswa.csv\n",
    "# Membaca dataset dengan pemisah titik koma dan membersihkan nama kolom\n",
    "data = pd.read_csv('Data_Mahasiswa.csv', sep=';')\n",
    "data.columns = data.columns.str.strip()\n",
    "\n",
    "# Misalkan dataset memiliki kolom: 'Nama Lengkap Mahasiswa', 'NIM', 'Program Studi Mahasiswa', dan 'Angkatan Mahasiswa'\n",
    "# Kita perlu mengonversi kolom NIM dan Angkatan ke tipe numerik\n",
    "data['NIM'] = pd.to_numeric(data['NIM'], errors='coerce')\n",
    "data['Angkatan Mahasiswa'] = pd.to_numeric(data['Angkatan Mahasiswa'], errors='coerce')\n",
    "\n",
    "# Menginisiasi list untuk menampung objek Mahasiswa\n",
    "list_mahasiswa = []\n",
    "\n",
    "# Iterasi melalui baris dataset dan membuat objek Mahasiswa\n",
    "for idx, row in data.iterrows():\n",
    "    if pd.notnull(row['NIM']) and pd.notnull(row['Nama Lengkap Mahasiswa']) and pd.notnull(row['Angkatan Mahasiswa']):\n",
    "        # Misalnya, jika program studi mengandung kata \"Magister\", buat objek MahasiswaMagister\n",
    "        if \"Magister\" in str(row['Program Studi Mahasiswa']):\n",
    "            # Untuk mahasiswa magister, kita asumsikan ada kolom tambahan 'Judul Tesis'\n",
    "            # Jika tidak ada, gunakan nilai default\n",
    "            judul_tesis = row.get('Judul Tesis', 'Belum Diketahui')\n",
    "            mhs = MahasiswaMagister(row['Nama Lengkap Mahasiswa'], row['NIM'], row['Program Studi Mahasiswa'], row['Angkatan Mahasiswa'], judul_tesis)\n",
    "        else:\n",
    "            mhs = Mahasiswa(row['Nama Lengkap Mahasiswa'], row['NIM'], row['Program Studi Mahasiswa'], row['Angkatan Mahasiswa'])\n",
    "        list_mahasiswa.append(mhs)\n",
    "\n",
    "# Menampilkan informasi 5 mahasiswa pertama\n",
    "print(\"Informasi 5 Mahasiswa Pertama:\")\n",
    "for mhs in list_mahasiswa[:5]:\n",
    "    print(mhs.info())\n"
   ]
  }
 ],
 "metadata": {
  "kernelspec": {
   "display_name": "Python 3",
   "language": "python",
   "name": "python3"
  },
  "language_info": {
   "codemirror_mode": {
    "name": "ipython",
    "version": 3
   },
   "file_extension": ".py",
   "mimetype": "text/x-python",
   "name": "python",
   "nbconvert_exporter": "python",
   "pygments_lexer": "ipython3",
   "version": "3.12.4"
  }
 },
 "nbformat": 4,
 "nbformat_minor": 2
}

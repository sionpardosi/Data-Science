{
 "cells": [
  {
   "cell_type": "code",
   "execution_count": null,
   "metadata": {},
   "outputs": [],
   "source": [
    "list_matakuliah = ['Fisika', 'Kimia', 'Matematika', 'Biologi']"
   ]
  },
  {
   "cell_type": "code",
   "execution_count": null,
   "metadata": {},
   "outputs": [],
   "source": [
    "print(list_matakuliah[0])  # Output: Fisika\n",
    "print(list_matakuliah[-1])  # Output: Biologi (akses dengan indeks negatif)"
   ]
  },
  {
   "cell_type": "code",
   "execution_count": null,
   "metadata": {},
   "outputs": [],
   "source": [
    "sub_list = list_matakuliah[1:3]  # Output: ['Kimia', 'Matematika']"
   ]
  },
  {
   "cell_type": "code",
   "execution_count": null,
   "metadata": {},
   "outputs": [],
   "source": [
    "list_buah = ['apel', 'jeruk']\n",
    "list_angka = [1, 2, 3]\n",
    "gabungan = list_buah + list_angka\n",
    "print(gabungan)  # Output: ['apel', 'jeruk', 1, 2, 3]\n",
    "print(list_buah * 3)  # Output: ['apel', 'jeruk', 'apel', 'jeruk', 'apel', 'jeruk']\n"
   ]
  },
  {
   "cell_type": "code",
   "execution_count": null,
   "metadata": {},
   "outputs": [],
   "source": [
    "print('apel' in list_buah)  # Output: True\n"
   ]
  },
  {
   "cell_type": "code",
   "execution_count": null,
   "metadata": {},
   "outputs": [],
   "source": [
    "for mata in list_matakuliah:\n",
    "    print(mata)"
   ]
  },
  {
   "cell_type": "code",
   "execution_count": 1,
   "metadata": {},
   "outputs": [
    {
     "name": "stdout",
     "output_type": "stream",
     "text": [
      "Jumlah mahasiswa: 507\n",
      "\n",
      "Contoh Nama dalam Huruf Kapital:\n",
      "['SAMUEL SAUT ROYZEKI ARITONANG', 'CALVIN JOSEP SILAEN', 'INDAH SILITONGA', 'ASRI YOHANA SIRAIT', 'FERDIANTY MARIANY PANJAITAN ']\n",
      "\n",
      "Contoh 3 Karakter Pertama dari Setiap Nama:\n",
      "['Sam', 'Cal', 'Ind', 'Asr', 'Fer']\n",
      "\n",
      "Contoh Penggabungan String pada List Nama:\n",
      "['Mahasiswa Samuel Saut Royzeki Aritonang', 'Mahasiswa Calvin Josep Silaen', 'Mahasiswa Indah Silitonga', 'Mahasiswa Asri Yohana Sirait', 'Mahasiswa Ferdianty Mariany Panjaitan ']\n",
      "\n",
      "Iterasi melalui daftar nama:\n",
      "Nama: nan\n",
      "Nama: Samuel Saut Royzeki Aritonang\n",
      "Nama: Calvin Josep Silaen\n",
      "Nama: Indah Silitonga\n",
      "Nama: Asri Yohana Sirait\n"
     ]
    }
   ],
   "source": [
    "import pandas as pd\n",
    "\n",
    "# Membaca dataset Data_Mahasiswa.csv dengan pemisah titik koma\n",
    "data = pd.read_csv('Data_Mahasiswa.csv', sep=';')\n",
    "\n",
    "# Menghapus spasi berlebih dari nama kolom agar konsisten\n",
    "data.columns = data.columns.str.strip()\n",
    "\n",
    "# Misalkan kita ingin mengambil daftar nama lengkap mahasiswa dari kolom \"Nama Lengkap Mahasiswa\"\n",
    "daftar_nama = data['Nama Lengkap Mahasiswa'].tolist()\n",
    "\n",
    "# Operasi dasar pada list:\n",
    "# 1. Menampilkan jumlah mahasiswa dalam dataset (panjang list)\n",
    "jumlah_mahasiswa = len(daftar_nama)\n",
    "print(\"Jumlah mahasiswa:\", jumlah_mahasiswa)\n",
    "\n",
    "# 2. Mengubah semua nama menjadi huruf kapital menggunakan list comprehension\n",
    "daftar_nama_kapital = [nama.upper() for nama in daftar_nama if isinstance(nama, str)]\n",
    "print(\"\\nContoh Nama dalam Huruf Kapital:\")\n",
    "print(daftar_nama_kapital[:5])  # Menampilkan 5 nama pertama\n",
    "\n",
    "# 3. Mengambil potongan (slicing) dari setiap nama, misalnya 3 karakter pertama\n",
    "daftar_nama_potongan = [nama[:3] for nama in daftar_nama if isinstance(nama, str)]\n",
    "print(\"\\nContoh 3 Karakter Pertama dari Setiap Nama:\")\n",
    "print(daftar_nama_potongan[:5])  # Menampilkan 5 potongan nama pertama\n",
    "\n",
    "# 4. Menggabungkan dua list: Misalnya, kita buat list baru dengan nama dan tambahan informasi 'Mahasiswa'\n",
    "daftar_nama_dengan_label = [\"Mahasiswa \" + nama for nama in daftar_nama if isinstance(nama, str)]\n",
    "print(\"\\nContoh Penggabungan String pada List Nama:\")\n",
    "print(daftar_nama_dengan_label[:5])\n",
    "\n",
    "# 5. Melakukan iterasi pada list untuk menampilkan setiap nama\n",
    "print(\"\\nIterasi melalui daftar nama:\")\n",
    "for nama in daftar_nama[:5]:  # Menampilkan 5 nama pertama\n",
    "    print(\"Nama:\", nama)\n"
   ]
  }
 ],
 "metadata": {
  "kernelspec": {
   "display_name": "Python 3",
   "language": "python",
   "name": "python3"
  },
  "language_info": {
   "codemirror_mode": {
    "name": "ipython",
    "version": 3
   },
   "file_extension": ".py",
   "mimetype": "text/x-python",
   "name": "python",
   "nbconvert_exporter": "python",
   "pygments_lexer": "ipython3",
   "version": "3.12.4"
  }
 },
 "nbformat": 4,
 "nbformat_minor": 2
}

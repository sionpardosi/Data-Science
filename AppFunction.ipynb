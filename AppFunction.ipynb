{
 "cells": [
  {
   "cell_type": "code",
   "execution_count": 1,
   "metadata": {},
   "outputs": [
    {
     "name": "stdout",
     "output_type": "stream",
     "text": [
      "Luas lingkaran dengan jari-jari 5 adalah 78.53981633974483\n",
      "Faktorial dari 6 adalah 720\n"
     ]
    }
   ],
   "source": [
    "import math\n",
    "\n",
    "def hitung_luas_lingkaran(jari_jari):\n",
    "    \"\"\"\n",
    "    Menghitung luas lingkaran.\n",
    "    \n",
    "    Rumus:\n",
    "        luas = π * (jari_jari)^2\n",
    "    Parameter:\n",
    "        jari_jari (float): Jari-jari lingkaran.\n",
    "    Mengembalikan:\n",
    "        float: Luas lingkaran.\n",
    "    \"\"\"\n",
    "    luas = math.pi * (jari_jari ** 2)\n",
    "    return luas\n",
    "\n",
    "# Pemanggilan fungsi\n",
    "r = 5\n",
    "print(\"Luas lingkaran dengan jari-jari\", r, \"adalah\", hitung_luas_lingkaran(r))\n",
    "\n",
    "\n",
    "def faktorial(n):\n",
    "    \"\"\"\n",
    "    Menghitung faktorial dari suatu bilangan n secara rekursif.\n",
    "    \n",
    "    Jika n sama dengan 0, faktorial didefinisikan sebagai 1.\n",
    "    \n",
    "    Parameter:\n",
    "        n (int): Bilangan bulat non-negatif.\n",
    "    Mengembalikan:\n",
    "        int: Faktorial dari n.\n",
    "    \"\"\"\n",
    "    if n == 0:\n",
    "        return 1\n",
    "    else:\n",
    "        return n * faktorial(n - 1)\n",
    "\n",
    "print(\"Faktorial dari 6 adalah\", faktorial(6))\n"
   ]
  },
  {
   "cell_type": "code",
   "execution_count": 2,
   "metadata": {},
   "outputs": [
    {
     "name": "stdout",
     "output_type": "stream",
     "text": [
      "Data mahasiswa dengan NIM 11422026 :\n",
      "  Email Address         Nama Lengkap Mahasiswa         NIM  \\\n",
      "1           NaN  Samuel Saut Royzeki Aritonang  11422026.0   \n",
      "\n",
      "                             Program Studi Mahasiswa Angkatan Mahasiswa  \\\n",
      "1  Sarjana Terapan Teknologi Rekayasa Perangkat L...               2022   \n",
      "\n",
      "  Berapa lama waktu yang Anda habiskan menggunakan laptop setiap hari?  \\\n",
      "1                                         9 - 11 jam                     \n",
      "\n",
      "  Apakah Anda biasanya menggunakan media sosial melalui laptop?  \\\n",
      "1                                                 Ya              \n",
      "\n",
      "  Berapa lama waktu yang Anda habiskan menggunakan media sosial melalui Laptop setiap hari?  \\\n",
      "1                                          3 - 5 jam                                          \n",
      "\n",
      "  Media sosial apa yang Anda aktifkan saat menggunakan laptop? (Centang semua yang sesuai)  \\\n",
      "1                                  Instagram, Tiktok                                         \n",
      "\n",
      "  Jenis konten apa yang paling sering Anda tonton atau akses di media sosial Instagram melalui laptop? (Hubungkan dengan media sosial yang dipilih)  \\\n",
      "1  Hiburan (Video lucu, meme, dll.), Edukasi (Tut...                                                                                                  \n",
      "\n",
      "   ... Apakah Anda pernah mengikuti olimpiade atau kompetisi akademik?  \\\n",
      "1  ...                                              Tidak                \n",
      "\n",
      "  Tingkat manakah Anda mengikuti olimpiade?  \\\n",
      "1                                       NaN   \n",
      "\n",
      "  Berapa jumlah saudara yang Anda miliki? Apa Pekerjaan Ayah Anda?  \\\n",
      "1                                  05-Jun    telah meninggal dunia   \n",
      "\n",
      "  Apa Pendidikan Terakhir Ayah Anda? Berapa Range Penghasilan Ayah Anda?  \\\n",
      "1                      SMP/sederajat           Rp. 500,000 - Rp. 999,999   \n",
      "\n",
      "  Apa Pekerjaan Ibu Anda? Apa Pendidikan Terakhir Ibu Anda?  \\\n",
      "1    Pegawai negeri sipil                       Diploma III   \n",
      "\n",
      "  Berapa Rentang Penghasilan Ibu Anda? Programming Skill  \n",
      "1        Rp. 2,000,000 - Rp. 4,999,999                70  \n",
      "\n",
      "[1 rows x 43 columns]\n"
     ]
    }
   ],
   "source": [
    "import pandas as pd\n",
    "\n",
    "def get_student_by_nim(df, nim):\n",
    "    \"\"\"\n",
    "    Mencari dan mengembalikan data mahasiswa berdasarkan NIM.\n",
    "    \n",
    "    Parameter:\n",
    "        df (DataFrame): DataFrame yang berisi data mahasiswa.\n",
    "        nim (int): Nomor Induk Mahasiswa yang dicari.\n",
    "    Mengembalikan:\n",
    "        DataFrame: Baris data mahasiswa yang memiliki NIM sesuai.\n",
    "                   Jika tidak ditemukan, mengembalikan DataFrame kosong.\n",
    "    \"\"\"\n",
    "    # Filter baris di mana kolom 'NIM' sama dengan nim yang dicari\n",
    "    result = df[df['NIM'] == nim]\n",
    "    return result\n",
    "\n",
    "# Contoh penerapan fungsi dengan dataset \"Data_Mahasiswa.csv\"\n",
    "# Pastikan file CSV berada di direktori kerja dan dipisahkan dengan titik koma\n",
    "data = pd.read_csv('Data_Mahasiswa.csv', sep=';')\n",
    "# Menghapus spasi dari nama kolom untuk konsistensi\n",
    "data.columns = data.columns.str.strip()\n",
    "# Konversi kolom 'NIM' ke numerik\n",
    "data['NIM'] = pd.to_numeric(data['NIM'], errors='coerce')\n",
    "\n",
    "# Pemanggilan fungsi untuk mencari mahasiswa dengan NIM tertentu\n",
    "nim_dicari = 11422026  # Contoh NIM\n",
    "mahasiswa = get_student_by_nim(data, nim_dicari)\n",
    "print(\"Data mahasiswa dengan NIM\", nim_dicari, \":\")\n",
    "print(mahasiswa)\n"
   ]
  }
 ],
 "metadata": {
  "kernelspec": {
   "display_name": "Python 3",
   "language": "python",
   "name": "python3"
  },
  "language_info": {
   "codemirror_mode": {
    "name": "ipython",
    "version": 3
   },
   "file_extension": ".py",
   "mimetype": "text/x-python",
   "name": "python",
   "nbconvert_exporter": "python",
   "pygments_lexer": "ipython3",
   "version": "3.12.4"
  }
 },
 "nbformat": 4,
 "nbformat_minor": 2
}

{
 "cells": [
  {
   "cell_type": "code",
   "execution_count": null,
   "metadata": {},
   "outputs": [],
   "source": [
    "koordinat = (3.5, 7.2)"
   ]
  },
  {
   "cell_type": "code",
   "execution_count": null,
   "metadata": {},
   "outputs": [],
   "source": [
    "print(koordinat[0])  # Output: 3.5\n",
    "print(koordinat[1])  # Output: 7.2"
   ]
  },
  {
   "cell_type": "code",
   "execution_count": 1,
   "metadata": {},
   "outputs": [
    {
     "name": "stdout",
     "output_type": "stream",
     "text": [
      "Koordinat: (3.5, 7.2)\n",
      "Nilai x: 3.5\n",
      "Nilai y: 7.2\n",
      "Nilai pasangan (1,2): Pasangan A\n"
     ]
    }
   ],
   "source": [
    "# Pembuatan tuple\n",
    "koordinat = (3.5, 7.2)\n",
    "print(\"Koordinat:\", koordinat)\n",
    "\n",
    "# Mengakses elemen tuple\n",
    "print(\"Nilai x:\", koordinat[0])\n",
    "print(\"Nilai y:\", koordinat[1])\n",
    "\n",
    "# Penggunaan tuple sebagai key pada dictionary\n",
    "pasangan = { (1, 2): \"Pasangan A\", (3, 4): \"Pasangan B\" }\n",
    "print(\"Nilai pasangan (1,2):\", pasangan[(1, 2)])\n"
   ]
  },
  {
   "cell_type": "code",
   "execution_count": 2,
   "metadata": {},
   "outputs": [
    {
     "name": "stdout",
     "output_type": "stream",
     "text": [
      "Contoh pengelompokan data mahasiswa menggunakan tuple sebagai key:\n",
      "Key (NIM, Nama): (11422026.0, 'Samuel Saut Royzeki Aritonang') => Angkatan: 2022\n",
      "Key (NIM, Nama): (11422038.0, 'Calvin Josep Silaen') => Angkatan: 2022\n",
      "Key (NIM, Nama): (11422060.0, 'Indah Silitonga') => Angkatan: 2022\n",
      "Key (NIM, Nama): (11422029.0, 'Asri Yohana Sirait') => Angkatan: 2022\n",
      "Key (NIM, Nama): (11423008.0, 'Ferdianty Mariany Panjaitan ') => Angkatan: 2023\n"
     ]
    }
   ],
   "source": [
    "import pandas as pd\n",
    "\n",
    "# Membaca dataset Data_Mahasiswa.csv dengan pemisah titik koma\n",
    "data = pd.read_csv('Data_Mahasiswa.csv', sep=';')\n",
    "\n",
    "# Menghapus spasi ekstra pada nama kolom untuk konsistensi\n",
    "data.columns = data.columns.str.strip()\n",
    "\n",
    "# Misalkan kita akan membuat sebuah dictionary untuk mengelompokkan data mahasiswa\n",
    "# berdasarkan kombinasi (NIM, Nama Lengkap Mahasiswa). Karena kombinasi ini bersifat unik\n",
    "# dan tidak akan berubah, kita gunakan tuple sebagai key.\n",
    "\n",
    "# Pertama, pastikan kolom 'NIM' diubah ke tipe numerik agar bisa dibandingkan dengan benar\n",
    "data['NIM'] = pd.to_numeric(data['NIM'], errors='coerce')\n",
    "\n",
    "# Membuat dictionary untuk mengelompokkan data mahasiswa\n",
    "# Misal, kita ingin mengumpulkan data tentang 'Angkatan Mahasiswa' untuk setiap mahasiswa\n",
    "data_mahasiswa = {}\n",
    "\n",
    "for idx, row in data.iterrows():\n",
    "    # Pastikan nilai NIM dan Nama Lengkap valid\n",
    "    if pd.notnull(row['NIM']) and isinstance(row['Nama Lengkap Mahasiswa'], str):\n",
    "        # Buat tuple sebagai key\n",
    "        key = (row['NIM'], row['Nama Lengkap Mahasiswa'])\n",
    "        # Simpan informasi tambahan, misalnya angkatan, sebagai value\n",
    "        data_mahasiswa[key] = row['Angkatan Mahasiswa']\n",
    "\n",
    "# Menampilkan contoh 5 entri dari dictionary\n",
    "print(\"Contoh pengelompokan data mahasiswa menggunakan tuple sebagai key:\")\n",
    "for i, (k, v) in enumerate(data_mahasiswa.items()):\n",
    "    if i == 5:\n",
    "        break\n",
    "    print(f\"Key (NIM, Nama): {k} => Angkatan: {v}\")\n"
   ]
  }
 ],
 "metadata": {
  "kernelspec": {
   "display_name": "Python 3",
   "language": "python",
   "name": "python3"
  },
  "language_info": {
   "codemirror_mode": {
    "name": "ipython",
    "version": 3
   },
   "file_extension": ".py",
   "mimetype": "text/x-python",
   "name": "python",
   "nbconvert_exporter": "python",
   "pygments_lexer": "ipython3",
   "version": "3.12.4"
  }
 },
 "nbformat": 4,
 "nbformat_minor": 2
}

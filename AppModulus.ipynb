{
 "cells": [
  {
   "cell_type": "code",
   "execution_count": 1,
   "metadata": {},
   "outputs": [
    {
     "name": "stdout",
     "output_type": "stream",
     "text": [
      "17 % 5 = 2\n"
     ]
    }
   ],
   "source": [
    "# Contoh 1: Penggunaan modulus dengan bilangan bulat\n",
    "a = 17\n",
    "b = 5\n",
    "result_int = a % b\n",
    "print(f\"{a} % {b} = {result_int}\")  # Output: 17 % 5 = 2\n"
   ]
  },
  {
   "cell_type": "code",
   "execution_count": 2,
   "metadata": {},
   "outputs": [
    {
     "name": "stdout",
     "output_type": "stream",
     "text": [
      "10.5 % 3.2 = 0.8999999999999995\n"
     ]
    }
   ],
   "source": [
    "# Contoh 2: Penggunaan modulus dengan bilangan pecahan\n",
    "x = 10.5\n",
    "y = 3.2\n",
    "result_float = x % y\n",
    "print(f\"{x} % {y} = {result_float}\")  # Output: 10.5 % 3.2 = 1.2999999999999998\n"
   ]
  },
  {
   "cell_type": "code",
   "execution_count": 3,
   "metadata": {},
   "outputs": [
    {
     "name": "stdout",
     "output_type": "stream",
     "text": [
      "-15 % 7 = 6\n"
     ]
    }
   ],
   "source": [
    "# Contoh 3: Penggunaan modulus dengan bilangan negatif\n",
    "c = -15\n",
    "d = 7\n",
    "result_negative = c % d\n",
    "print(f\"{c} % {d} = {result_negative}\")  # Output: -15 % 7 = 6\n"
   ]
  },
  {
   "cell_type": "code",
   "execution_count": 4,
   "metadata": {},
   "outputs": [
    {
     "name": "stdout",
     "output_type": "stream",
     "text": [
      "2\n"
     ]
    }
   ],
   "source": [
    "def custom_modulo(dividend, divisor):\n",
    "    # Pastikan divisor tidak nol untuk menghindari error pembagian dengan nol\n",
    "    if divisor == 0:\n",
    "        return \"Error: Division by zero\"\n",
    "\n",
    "    remainder = abs(dividend)\n",
    "    divisor = abs(divisor)\n",
    "    \n",
    "    # Kurangi dividend dengan divisor secara berulang hingga sisa kurang dari divisor\n",
    "    while remainder >= divisor:\n",
    "        remainder -= divisor\n",
    "    # Jika dividend asli negatif, sesuaikan tanda hasil\n",
    "    if dividend < 0:\n",
    "        return -remainder\n",
    "    return remainder\n",
    "\n",
    "# Contoh penggunaan fungsi custom_modulo\n",
    "print(custom_modulo(17, 5))  # Output: 2\n"
   ]
  },
  {
   "cell_type": "code",
   "execution_count": 5,
   "metadata": {},
   "outputs": [
    {
     "name": "stdout",
     "output_type": "stream",
     "text": [
      "divmod(15, 4) = (3, 3)\n",
      "divmod(9.6, 2) = (4.0, 1.5999999999999996)\n"
     ]
    }
   ],
   "source": [
    "# Contoh penggunaan divmod dengan bilangan bulat\n",
    "result_tuple = divmod(15, 4)\n",
    "print(f\"divmod(15, 4) = {result_tuple}\")  # Output: (3, 3)\n",
    "\n",
    "# Contoh penggunaan divmod dengan bilangan pecahan\n",
    "result_tuple_float = divmod(9.6, 2)\n",
    "print(f\"divmod(9.6, 2) = {result_tuple_float}\")  # Output: (4.0, 1.5999999999999996)\n"
   ]
  },
  {
   "cell_type": "code",
   "execution_count": 12,
   "metadata": {},
   "outputs": [
    {
     "name": "stdout",
     "output_type": "stream",
     "text": [
      "DataFrame:\n",
      "  Email Address         Nama Lengkap Mahasiswa       NIM  \\\n",
      "0           NaN                            NaN       NaN   \n",
      "1           NaN  Samuel Saut Royzeki Aritonang  11422026   \n",
      "2           NaN            Calvin Josep Silaen  11422038   \n",
      "3           NaN                Indah Silitonga  11422060   \n",
      "4           NaN             Asri Yohana Sirait  11422029   \n",
      "\n",
      "                             Program Studi Mahasiswa Angkatan Mahasiswa  \\\n",
      "0                                                NaN                NaN   \n",
      "1  Sarjana Terapan Teknologi Rekayasa Perangkat L...               2022   \n",
      "2  Sarjana Terapan Teknologi Rekayasa Perangkat L...               2022   \n",
      "3  Sarjana Terapan Teknologi Rekayasa Perangkat L...               2022   \n",
      "4  Sarjana Terapan Teknologi Rekayasa Perangkat L...               2022   \n",
      "\n",
      "  Berapa lama waktu yang Anda habiskan menggunakan laptop setiap hari?  \\\n",
      "0                                                NaN                     \n",
      "1                                         9 - 11 jam                     \n",
      "2                                          6 - 8 jam                     \n",
      "3                                          6 - 8 jam                     \n",
      "4                                          3 - 5 jam                     \n",
      "\n",
      "  Apakah Anda biasanya menggunakan media sosial melalui laptop?  \\\n",
      "0                                                NaN              \n",
      "1                                                 Ya              \n",
      "2                                              Tidak              \n",
      "3                                                 Ya              \n",
      "4                                              Tidak              \n",
      "\n",
      "  Berapa lama waktu yang Anda habiskan menggunakan media sosial melalui Laptop setiap hari?  \\\n",
      "0                                                NaN                                          \n",
      "1                                          3 - 5 jam                                          \n",
      "2                                                NaN                                          \n",
      "3                                          0 - 2 jam                                          \n",
      "4                                                NaN                                          \n",
      "\n",
      "  Media sosial apa yang Anda aktifkan saat menggunakan laptop? (Centang semua yang sesuai)  \\\n",
      "0                                                NaN                                         \n",
      "1                                  Instagram, Tiktok                                         \n",
      "2                                                NaN                                         \n",
      "3                                          Instagram                                         \n",
      "4                                                NaN                                         \n",
      "\n",
      "  Jenis konten apa yang paling sering Anda tonton atau akses di media sosial Instagram melalui laptop? (Hubungkan dengan media sosial yang dipilih)  \\\n",
      "0                                                NaN                                                                                                  \n",
      "1  Hiburan (Video lucu, meme, dll.), Edukasi (Tut...                                                                                                  \n",
      "2                                                NaN                                                                                                  \n",
      "3                   Hiburan (Video lucu, meme, dll.)                                                                                                  \n",
      "4                                                NaN                                                                                                  \n",
      "\n",
      "   ... Apakah Anda pernah mengikuti olimpiade atau kompetisi akademik?  \\\n",
      "0  ...                                                NaN                \n",
      "1  ...                                              Tidak                \n",
      "2  ...                                              Tidak                \n",
      "3  ...                                              Tidak                \n",
      "4  ...                                                 Ya                \n",
      "\n",
      "           Tingkat manakah Anda mengikuti olimpiade?  \\\n",
      "0                                                NaN   \n",
      "1                                                NaN   \n",
      "2                                                NaN   \n",
      "3                                                NaN   \n",
      "4  Tingkat Lokal (Kabupaten/Kota), Tingkat Region...   \n",
      "\n",
      "  Berapa jumlah saudara yang Anda miliki? Apa Pekerjaan Ayah Anda?  \\\n",
      "0                                     NaN                      NaN   \n",
      "1                                  05-Jun    telah meninggal dunia   \n",
      "2                                  03-Apr           Petani/pekebun   \n",
      "3                                  03-Apr           Petani/pekebun   \n",
      "4                                  03-Apr           Petani/pekebun   \n",
      "\n",
      "  Apa Pendidikan Terakhir Ayah Anda? Berapa Range Penghasilan Ayah Anda?  \\\n",
      "0                                NaN                                 NaN   \n",
      "1                      SMP/sederajat           Rp. 500,000 - Rp. 999,999   \n",
      "2           Diploma IV atau Strata I       Rp. 2,000,000 - Rp. 4,999,999   \n",
      "3                      SMA/sederajat       Rp. 1,000,000 - Rp. 1,999,999   \n",
      "4                      SMA/sederajat       Rp. 2,000,000 - Rp. 4,999,999   \n",
      "\n",
      "  Apa Pekerjaan Ibu Anda? Apa Pendidikan Terakhir Ibu Anda?  \\\n",
      "0                     NaN                               NaN   \n",
      "1    Pegawai negeri sipil                       Diploma III   \n",
      "2             Perdagangan          Diploma IV atau Strata I   \n",
      "3    Pegawai negeri sipil          Diploma IV atau Strata I   \n",
      "4          Petani/pekebun                     SMA/sederajat   \n",
      "\n",
      "  Berapa Rentang Penghasilan Ibu Anda? Programming Skill  \n",
      "0                                  NaN                43  \n",
      "1        Rp. 2,000,000 - Rp. 4,999,999                70  \n",
      "2        Rp. 2,000,000 - Rp. 4,999,999                42  \n",
      "3        Rp. 2,000,000 - Rp. 4,999,999                36  \n",
      "4        Rp. 2,000,000 - Rp. 4,999,999                56  \n",
      "\n",
      "[5 rows x 43 columns]\n",
      "Dimensi Data: (507, 43)\n",
      "\n",
      "Data dengan Status_NIM:\n",
      "          NIM      Status_NIM\n",
      "0         NaN  Tidak Ada Data\n",
      "1  11422026.0           Genap\n",
      "2  11422038.0           Genap\n",
      "3  11422060.0           Genap\n",
      "4  11422029.0          Ganjil\n",
      "\n",
      "Jumlah mahasiswa dengan NIM Genap: 195\n",
      "Jumlah mahasiswa dengan NIM Ganjil: 191\n"
     ]
    },
    {
     "data": {
      "image/png": "[encoded data removed]",
      "text/plain": [
       "<Figure size 600x400 with 1 Axes>"
      ]
     },
     "metadata": {},
     "output_type": "display_data"
    }
   ],
   "source": [
    "import pandas as pd\n",
    "import numpy as np\n",
    "import matplotlib.pyplot as plt\n",
    "from sklearn.preprocessing import StandardScaler\n",
    "from sklearn.manifold import TSNE\n",
    "from sklearn.decomposition import PCA\n",
    "\n",
    "# Load dataset \"Data_Mahasiswa.csv\" dengan separator titik koma\n",
    "df = pd.read_csv('Data_Mahasiswa.csv', sep=';')\n",
    "\n",
    "# Menghapus spasi ekstra dari nama kolom agar konsisten\n",
    "df.columns = df.columns.str.strip()\n",
    "\n",
    "# Tampilkan beberapa baris pertama untuk verifikasi\n",
    "print(\"DataFrame:\")\n",
    "print(df.head())\n",
    "\n",
    "# Tampilkan dimensi dataset\n",
    "print(\"Dimensi Data:\", df.shape)\n",
    "\n",
    "# Pastikan kolom 'NIM' diubah ke tipe numerik (jika masih berbentuk string)\n",
    "df['NIM'] = pd.to_numeric(df['NIM'], errors='coerce')\n",
    "\n",
    "# Gunakan operator modulus untuk menentukan apakah NIM genap atau ganjil\n",
    "# Jika NIM valid (tidak NaN), jika NIM % 2 == 0 maka 'Genap', sebaliknya 'Ganjil'\n",
    "df['Status_NIM'] = df['NIM'].apply(lambda x: 'Genap' if pd.notnull(x) and x % 2 == 0 else ('Ganjil' if pd.notnull(x) else 'Tidak Ada Data'))\n",
    "\n",
    "# Tampilkan kolom NIM dan Status_NIM untuk beberapa baris pertama\n",
    "print(\"\\nData dengan Status_NIM:\")\n",
    "print(df[['NIM', 'Status_NIM']].head())\n",
    "\n",
    "# Analisis tambahan: hitung jumlah mahasiswa dengan NIM genap dan ganjil\n",
    "jumlah_genap = df[df['Status_NIM'] == 'Genap'].shape[0]\n",
    "jumlah_ganjil = df[df['Status_NIM'] == 'Ganjil'].shape[0]\n",
    "print(f\"\\nJumlah mahasiswa dengan NIM Genap: {jumlah_genap}\")\n",
    "print(f\"Jumlah mahasiswa dengan NIM Ganjil: {jumlah_ganjil}\")\n",
    "\n",
    "# Visualisasi sederhana: Distribusi NIM berdasarkan Status (Genap/Ganjil)\n",
    "status_counts = df['Status_NIM'].value_counts()\n",
    "plt.figure(figsize=(6,4))\n",
    "plt.bar(status_counts.index, status_counts.values, color=['blue', 'orange', 'gray'])\n",
    "plt.title('Distribusi NIM: Genap vs Ganjil')\n",
    "plt.xlabel('Status NIM')\n",
    "plt.ylabel('Jumlah Mahasiswa')\n",
    "plt.show()\n"
   ]
  }
 ],
 "metadata": {
  "kernelspec": {
   "display_name": "Python 3",
   "language": "python",
   "name": "python3"
  },
  "language_info": {
   "codemirror_mode": {
    "name": "ipython",
    "version": 3
   },
   "file_extension": ".py",
   "mimetype": "text/x-python",
   "name": "python",
   "nbconvert_exporter": "python",
   "pygments_lexer": "ipython3",
   "version": "3.12.4"
  }
 },
 "nbformat": 4,
 "nbformat_minor": 2
}
